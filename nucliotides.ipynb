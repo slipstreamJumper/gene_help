{
  "metadata": {
    "kernelspec": {
      "display_name": "Python 3.6",
      "name": "python36",
      "language": "python"
    },
    "language_info": {
      "mimetype": "text/x-python",
      "nbconvert_exporter": "python",
      "name": "python",
      "pygments_lexer": "ipython3",
      "version": "3.6.6",
      "file_extension": ".py",
      "codemirror_mode": {
        "version": 3,
        "name": "ipython"
      }
    }
  },
  "nbformat_minor": 2,
  "nbformat": 4,
  "cells": [
    {
      "cell_type": "code",
      "source": "# positions \n\nslim_pos= [0,1,2,3,4,5,6,7,8]\n\n# base pair position\n\nalt = [\"sd\",\"wea\",\"wev\",\"qqg\",\"aca\",\"asdc\",\"beq\",\"asday\",\"ioj\"]\n\n# patient sequences \n\nseq = [\"dweasvqqgacaasdcaeqasdayioj\"]\n\n\n# output\nSTART_POSITION = 0\nEND_POSITION = len(slim_pos)\n\nfor se, s in enumerate(seq):\n    # count of SNP mismatches\n    failures = 0\n    for e, i in enumerate(slim_pos[START_POSITION: END_POSITION]):\n        slim_pos_index = 0\n        \n        # get the base pair from alt\n        compare = alt[e]\n        # get the length of the base pair\n        len_compare = len(compare)\n        \n        if compare in s:\n            # since we know slim_pos item is in this sequence\n            # well pull out the index\n            slim_pos_index = s.index(i)\n                        \n            # print target base pair\n            print(\"alt base pair at position \" + str(i)+\": \" + str(compare))\n            \n            #extract where the base pair should be in seqence\n            target_value = s[i:i+len_compare]\n            \n            #print extracted value\n            print(\"sequence at position \" + str(i)+\": \" + str(target_value))\n            \n            # direclty compare observed and target values \n            if compare == target_vlue: \n                print(\"VALUES MATCH\")\n            else:\n                print(\"VALUES DO NOT MATCH\")\n                failures+=1\n            print(\"Total Failures: \" + str(failures))    \n            print(\"-------------------------\")\n        \n        else:\n            failures+=1\n            print(\"base pair not found in sequence\")\n            pass\n        ",
      "metadata": {
        "collapsed": true,
        "trusted": true
      },
      "execution_count": 5,
      "outputs": [
        {
          "ename": "IndexError",
          "evalue": "list index out of range",
          "traceback": [
            "\u001b[0;31m---------------------------------------------------------------------------\u001b[0m",
            "\u001b[0;31mIndexError\u001b[0m                                Traceback (most recent call last)",
            "\u001b[0;32m<ipython-input-5-cedf3aa2e2bf>\u001b[0m in \u001b[0;36m<module>\u001b[0;34m\u001b[0m\n\u001b[1;32m     25\u001b[0m             \u001b[0;31m# compare the index of slim_pos in this sequence\u001b[0m\u001b[0;34m\u001b[0m\u001b[0;34m\u001b[0m\u001b[0m\n\u001b[1;32m     26\u001b[0m             \u001b[0;31m# against same index in alt\u001b[0m\u001b[0;34m\u001b[0m\u001b[0;34m\u001b[0m\u001b[0m\n\u001b[0;32m---> 27\u001b[0;31m             \u001b[0mprint\u001b[0m\u001b[0;34m(\u001b[0m\u001b[0;34m\"alt at position \"\u001b[0m \u001b[0;34m+\u001b[0m \u001b[0mstr\u001b[0m\u001b[0;34m(\u001b[0m\u001b[0me\u001b[0m\u001b[0;34m)\u001b[0m\u001b[0;34m+\u001b[0m\u001b[0;34m\": \"\u001b[0m \u001b[0;34m+\u001b[0m \u001b[0mstr\u001b[0m\u001b[0;34m(\u001b[0m\u001b[0malt\u001b[0m\u001b[0;34m[\u001b[0m\u001b[0mslim_pos_index\u001b[0m\u001b[0;34m]\u001b[0m\u001b[0;34m)\u001b[0m\u001b[0;34m)\u001b[0m\u001b[0;34m\u001b[0m\u001b[0m\n\u001b[0m\u001b[1;32m     28\u001b[0m             \u001b[0mprint\u001b[0m\u001b[0;34m(\u001b[0m\u001b[0;34m\"slim_pos at position \"\u001b[0m \u001b[0;34m+\u001b[0m \u001b[0mstr\u001b[0m\u001b[0;34m(\u001b[0m\u001b[0me\u001b[0m\u001b[0;34m)\u001b[0m\u001b[0;34m+\u001b[0m\u001b[0;34m\": \"\u001b[0m \u001b[0;34m+\u001b[0m \u001b[0mstr\u001b[0m\u001b[0;34m(\u001b[0m\u001b[0mslim_pos\u001b[0m\u001b[0;34m[\u001b[0m\u001b[0mslim_pos_index\u001b[0m\u001b[0;34m]\u001b[0m\u001b[0;34m)\u001b[0m\u001b[0;34m)\u001b[0m\u001b[0;34m\u001b[0m\u001b[0m\n\u001b[1;32m     29\u001b[0m             \u001b[0;31m# direclty compare values and output\u001b[0m\u001b[0;34m\u001b[0m\u001b[0;34m\u001b[0m\u001b[0m\n",
            "\u001b[0;31mIndexError\u001b[0m: list index out of range"
          ],
          "output_type": "error"
        }
      ]
    },
    {
      "cell_type": "code",
      "source": "",
      "metadata": {},
      "execution_count": null,
      "outputs": []
    }
  ]
}