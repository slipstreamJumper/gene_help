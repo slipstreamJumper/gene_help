{
  "metadata": {
    "kernelspec": {
      "display_name": "Python 3.6",
      "name": "python36",
      "language": "python"
    },
    "language_info": {
      "mimetype": "text/x-python",
      "nbconvert_exporter": "python",
      "name": "python",
      "pygments_lexer": "ipython3",
      "version": "3.6.6",
      "file_extension": ".py",
      "codemirror_mode": {
        "version": 3,
        "name": "ipython"
      }
    }
  },
  "nbformat_minor": 2,
  "nbformat": 4,
  "cells": [
    {
      "cell_type": "code",
      "source": "# positions \n\nslim_pos= [0,1,2,3,4,5,6,7,8]\n\n# base pair position\n\nalt = [\"sd\",\"wea\",\"wev\",\"qqg\",\"aca\",\"asdc\",\"beq\",\"asday\",\"ioj\"]\n\n# patient sequences \n\nseq = [\"dweasvqqgacaasdcaeqasdayioj\"]\n\n\n# output\nSTART_POSITION = 0\nEND_POSITION = len(slim_pos)\n\nfor se, s in enumerate(seq):\n    # count of SNP mismatches\n    failures = 0\n    for e, i in enumerate(slim_pos[START_POSITION: END_POSITION]):\n        slim_pos_index = 0\n        \n        # get the base pair from alt\n        compare = alt[e]\n        # get the length of the base pair\n        len_compare = len(compare)\n        \n        if compare in s:                        \n            # print target base pair\n            print(\"alt base pair at position \" + str(i)+\": \" + str(compare))\n            \n            #extract where the base pair should be in seqence\n            target_value = s[i:i+len_compare]\n            \n            #print extracted value\n            print(\"sequence at position \" + str(i)+\": \" + str(target_value))\n            \n            # direclty compare observed and target values \n            if compare == target_value: \n                print(\"VALUES MATCH\")\n            else:\n                print(\"VALUES DO NOT MATCH\")\n                failures+=1\n            print(\"Total Failures: \" + str(failures))    \n            print(\"-------------------------\")\n        \n        else:\n            failures+=1\n            print(\"base pair not found in sequence\")\n            pass\n        ",
      "metadata": {
        "collapsed": true,
        "trusted": true
      },
      "execution_count": 8,
      "outputs": [
        {
          "text": "alt base pair at position 0: sd\nsequence at position 0: dw\nVALUES DO NOT MATCH\nTotal Failures: 1\n-------------------------\nalt base pair at position 1: wea\nsequence at position 1: wea\nVALUES MATCH\nTotal Failures: 1\n-------------------------\nbase pair not found in sequence\nalt base pair at position 3: qqg\nsequence at position 3: asv\nVALUES DO NOT MATCH\nTotal Failures: 3\n-------------------------\nalt base pair at position 4: aca\nsequence at position 4: svq\nVALUES DO NOT MATCH\nTotal Failures: 4\n-------------------------\nalt base pair at position 5: asdc\nsequence at position 5: vqqg\nVALUES DO NOT MATCH\nTotal Failures: 5\n-------------------------\nbase pair not found in sequence\nalt base pair at position 7: asday\nsequence at position 7: qgaca\nVALUES DO NOT MATCH\nTotal Failures: 7\n-------------------------\nalt base pair at position 8: ioj\nsequence at position 8: gac\nVALUES DO NOT MATCH\nTotal Failures: 8\n-------------------------\n",
          "name": "stdout",
          "output_type": "stream"
        }
      ]
    },
    {
      "cell_type": "code",
      "source": "",
      "metadata": {},
      "execution_count": null,
      "outputs": []
    }
  ]
}